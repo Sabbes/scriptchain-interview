{
 "cells": [
  {
   "cell_type": "code",
   "execution_count": 8,
   "id": "ec9434fe",
   "metadata": {},
   "outputs": [],
   "source": [
    "import torch\n",
    "import torch.nn as nn\n",
    "import torch.optim as optim\n",
    "from torch.utils.data import Dataset, DataLoader"
   ]
  },
  {
   "cell_type": "code",
   "execution_count": 9,
   "id": "d8fd4403",
   "metadata": {},
   "outputs": [],
   "source": [
    "class DummySequenceDataset(Dataset):\n",
    "    def __init__(self, num_sequences=1000, seq_len=5, vocab_size=20):\n",
    "        self.vocab_size = vocab_size\n",
    "        self.data = []\n",
    "        for _ in range(num_sequences):\n",
    "            start = torch.randint(0, vocab_size - seq_len, (1,)).item()\n",
    "            seq = torch.arange(start, start + seq_len + 1) % vocab_size\n",
    "            self.data.append(seq)\n",
    "    \n",
    "    def __len__(self):\n",
    "        return len(self.data)\n",
    "    \n",
    "    def __getitem__(self, idx):\n",
    "        full_seq = self.data[idx]\n",
    "        return full_seq[:-1], full_seq[1:]  # Input sequence, Target sequence"
   ]
  },
  {
   "cell_type": "code",
   "execution_count": 10,
   "id": "6812cad9",
   "metadata": {},
   "outputs": [],
   "source": [
    "#Encodes the position of variable length inputs up to max_len tokens\n",
    "class LearnablePositionalEncoding(nn.Module):\n",
    "    def __init__(self, max_len: int, d_model: int):\n",
    "        super().__init__()\n",
    "        self.max_len = max_len\n",
    "        # Randomly initilizes learnable positional embedding\n",
    "        self.pos_embedding = nn.Parameter(torch.randn(self.max_len, d_model))\n",
    "\n",
    "    def forward(self, x):\n",
    "        # x: (batch_size, seq_len, d_model)\n",
    "        seq_len = x.size(1)\n",
    "        if seq_len > self.max_len:\n",
    "            raise ValueError(f\"Input sequence length {seq_len}\"\n",
    "                             f\" exceeds maximum positional encoding length {self.max_len}.\")\n",
    "        pos_embed = self.pos_embedding[:seq_len]  # (seq_len, d_model)\n",
    "        return x + pos_embed.unsqueeze(0)         # broadcast to (batch_size, seq_len, d_model)"
   ]
  },
  {
   "cell_type": "code",
   "execution_count": 11,
   "id": "ff9cd1ef",
   "metadata": {},
   "outputs": [
    {
     "name": "stderr",
     "output_type": "stream",
     "text": [
      "C:\\Users\\snake\\Anaconda3\\Lib\\site-packages\\torch\\nn\\modules\\transformer.py:379: UserWarning: enable_nested_tensor is True, but self.use_nested_tensor is False because encoder_layer.self_attn.batch_first was not True(use batch_first for better inference performance)\n",
      "  warnings.warn(\n"
     ]
    },
    {
     "name": "stdout",
     "output_type": "stream",
     "text": [
      "Epoch 1 | Loss: 40.7638\n",
      "Epoch 2 | Loss: 12.3947\n",
      "Epoch 3 | Loss: 6.6316\n",
      "Epoch 4 | Loss: 4.0531\n",
      "Epoch 5 | Loss: 2.7611\n",
      "Epoch 6 | Loss: 1.9551\n",
      "Epoch 7 | Loss: 1.5061\n",
      "Epoch 8 | Loss: 1.1706\n",
      "Epoch 9 | Loss: 0.9389\n",
      "Epoch 10 | Loss: 0.7955\n"
     ]
    }
   ],
   "source": [
    "# Example transformer using the created positional encoding\n",
    "class SimpleTransformerModel(nn.Module):\n",
    "    def __init__(self, vocab_size, seq_len, embed_dim):\n",
    "        super().__init__()\n",
    "        self.embedding = nn.Embedding(vocab_size, embed_dim)\n",
    "        self.pos_encoding = LearnablePositionalEncoding(seq_len, embed_dim)\n",
    "        \n",
    "        \n",
    "        self.transformer_block = nn.TransformerEncoderLayer(d_model=embed_dim, nhead=2)\n",
    "        self.transformer = nn.TransformerEncoder(self.transformer_block, num_layers=1)\n",
    "        self.fc_out = nn.Linear(embed_dim, vocab_size)\n",
    "\n",
    "    def forward(self, x):\n",
    "        x = self.embedding(x)  # (batch_size, seq_len, embed_dim)\n",
    "        x = self.pos_encoding(x)\n",
    "        x = x.permute(1, 0, 2)  # Transformer expects (seq_len, batch, embed_dim)\n",
    "        x = self.transformer(x)\n",
    "        x = x.permute(1, 0, 2)\n",
    "        return self.fc_out(x)\n",
    "\n",
    "def train_model():\n",
    "    # Hyperparameters\n",
    "    vocab_size = 20\n",
    "    seq_len = 5\n",
    "    embed_dim = 32\n",
    "    batch_size = 32\n",
    "    epochs = 10\n",
    "\n",
    "    dataset = DummySequenceDataset(vocab_size=vocab_size)\n",
    "    dataloader = DataLoader(dataset, batch_size=batch_size, shuffle=True)\n",
    "\n",
    "    model = SimpleTransformerModel(vocab_size, seq_len, embed_dim)\n",
    "    criterion = nn.CrossEntropyLoss()\n",
    "    optimizer = optim.Adam(model.parameters(), lr=1e-3)\n",
    "\n",
    "    for epoch in range(epochs):\n",
    "        total_loss = 0\n",
    "        for x, y in dataloader:\n",
    "            logits = model(x)  # (batch_size, seq_len, vocab_size)\n",
    "            loss = criterion(logits.view(-1, vocab_size), y.view(-1))\n",
    "            optimizer.zero_grad()\n",
    "            loss.backward()\n",
    "            optimizer.step()\n",
    "            total_loss += loss.item()\n",
    "        print(f\"Epoch {epoch+1} | Loss: {total_loss:.4f}\")\n",
    "\n",
    "train_model()"
   ]
  },
  {
   "cell_type": "code",
   "execution_count": null,
   "id": "a4288f07",
   "metadata": {},
   "outputs": [],
   "source": []
  }
 ],
 "metadata": {
  "kernelspec": {
   "display_name": "Python 3 (ipykernel)",
   "language": "python",
   "name": "python3"
  },
  "language_info": {
   "codemirror_mode": {
    "name": "ipython",
    "version": 3
   },
   "file_extension": ".py",
   "mimetype": "text/x-python",
   "name": "python",
   "nbconvert_exporter": "python",
   "pygments_lexer": "ipython3",
   "version": "3.11.7"
  }
 },
 "nbformat": 4,
 "nbformat_minor": 5
}
